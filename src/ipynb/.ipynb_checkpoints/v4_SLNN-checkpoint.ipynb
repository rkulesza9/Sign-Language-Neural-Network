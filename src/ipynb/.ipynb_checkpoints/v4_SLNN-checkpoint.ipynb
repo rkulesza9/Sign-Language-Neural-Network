{
 "cells": [
  {
   "cell_type": "markdown",
   "metadata": {},
   "source": [
    "<h1> Sign Language Neural Network </h1>\n",
    "<p>by Robert Kulesza</p>"
   ]
  },
  {
   "cell_type": "markdown",
   "metadata": {},
   "source": [
    "## Dataset\n",
    "* Sign Language MNIST dataset\n",
    "* https://www.kaggle.com/datamunge/sign-language-mnist#sign_mnist_test.zip"
   ]
  },
  {
   "cell_type": "markdown",
   "metadata": {},
   "source": [
    "## Methods\n",
    "* <b>Preprocessing</b>\n",
    "    * batch processing\n",
    "* <b>Machine Learning Techniques</b>\n",
    "    * Neural Network\n",
    "* <b>Results</b>\n",
    "    * loss\n",
    "    * accuracy"
   ]
  },
  {
   "cell_type": "markdown",
   "metadata": {},
   "source": [
    "### import libraries"
   ]
  },
  {
   "cell_type": "code",
   "execution_count": 1,
   "metadata": {},
   "outputs": [
    {
     "name": "stderr",
     "output_type": "stream",
     "text": [
      "c:\\users\\robert kulesza\\appdata\\local\\programs\\python\\python37\\lib\\site-packages\\tensorflow\\python\\framework\\dtypes.py:516: FutureWarning: Passing (type, 1) or '1type' as a synonym of type is deprecated; in a future version of numpy, it will be understood as (type, (1,)) / '(1,)type'.\n",
      "  _np_qint8 = np.dtype([(\"qint8\", np.int8, 1)])\n",
      "c:\\users\\robert kulesza\\appdata\\local\\programs\\python\\python37\\lib\\site-packages\\tensorflow\\python\\framework\\dtypes.py:517: FutureWarning: Passing (type, 1) or '1type' as a synonym of type is deprecated; in a future version of numpy, it will be understood as (type, (1,)) / '(1,)type'.\n",
      "  _np_quint8 = np.dtype([(\"quint8\", np.uint8, 1)])\n",
      "c:\\users\\robert kulesza\\appdata\\local\\programs\\python\\python37\\lib\\site-packages\\tensorflow\\python\\framework\\dtypes.py:518: FutureWarning: Passing (type, 1) or '1type' as a synonym of type is deprecated; in a future version of numpy, it will be understood as (type, (1,)) / '(1,)type'.\n",
      "  _np_qint16 = np.dtype([(\"qint16\", np.int16, 1)])\n",
      "c:\\users\\robert kulesza\\appdata\\local\\programs\\python\\python37\\lib\\site-packages\\tensorflow\\python\\framework\\dtypes.py:519: FutureWarning: Passing (type, 1) or '1type' as a synonym of type is deprecated; in a future version of numpy, it will be understood as (type, (1,)) / '(1,)type'.\n",
      "  _np_quint16 = np.dtype([(\"quint16\", np.uint16, 1)])\n",
      "c:\\users\\robert kulesza\\appdata\\local\\programs\\python\\python37\\lib\\site-packages\\tensorflow\\python\\framework\\dtypes.py:520: FutureWarning: Passing (type, 1) or '1type' as a synonym of type is deprecated; in a future version of numpy, it will be understood as (type, (1,)) / '(1,)type'.\n",
      "  _np_qint32 = np.dtype([(\"qint32\", np.int32, 1)])\n",
      "c:\\users\\robert kulesza\\appdata\\local\\programs\\python\\python37\\lib\\site-packages\\tensorflow\\python\\framework\\dtypes.py:525: FutureWarning: Passing (type, 1) or '1type' as a synonym of type is deprecated; in a future version of numpy, it will be understood as (type, (1,)) / '(1,)type'.\n",
      "  np_resource = np.dtype([(\"resource\", np.ubyte, 1)])\n",
      "c:\\users\\robert kulesza\\appdata\\local\\programs\\python\\python37\\lib\\site-packages\\tensorboard\\compat\\tensorflow_stub\\dtypes.py:541: FutureWarning: Passing (type, 1) or '1type' as a synonym of type is deprecated; in a future version of numpy, it will be understood as (type, (1,)) / '(1,)type'.\n",
      "  _np_qint8 = np.dtype([(\"qint8\", np.int8, 1)])\n",
      "c:\\users\\robert kulesza\\appdata\\local\\programs\\python\\python37\\lib\\site-packages\\tensorboard\\compat\\tensorflow_stub\\dtypes.py:542: FutureWarning: Passing (type, 1) or '1type' as a synonym of type is deprecated; in a future version of numpy, it will be understood as (type, (1,)) / '(1,)type'.\n",
      "  _np_quint8 = np.dtype([(\"quint8\", np.uint8, 1)])\n",
      "c:\\users\\robert kulesza\\appdata\\local\\programs\\python\\python37\\lib\\site-packages\\tensorboard\\compat\\tensorflow_stub\\dtypes.py:543: FutureWarning: Passing (type, 1) or '1type' as a synonym of type is deprecated; in a future version of numpy, it will be understood as (type, (1,)) / '(1,)type'.\n",
      "  _np_qint16 = np.dtype([(\"qint16\", np.int16, 1)])\n",
      "c:\\users\\robert kulesza\\appdata\\local\\programs\\python\\python37\\lib\\site-packages\\tensorboard\\compat\\tensorflow_stub\\dtypes.py:544: FutureWarning: Passing (type, 1) or '1type' as a synonym of type is deprecated; in a future version of numpy, it will be understood as (type, (1,)) / '(1,)type'.\n",
      "  _np_quint16 = np.dtype([(\"quint16\", np.uint16, 1)])\n",
      "c:\\users\\robert kulesza\\appdata\\local\\programs\\python\\python37\\lib\\site-packages\\tensorboard\\compat\\tensorflow_stub\\dtypes.py:545: FutureWarning: Passing (type, 1) or '1type' as a synonym of type is deprecated; in a future version of numpy, it will be understood as (type, (1,)) / '(1,)type'.\n",
      "  _np_qint32 = np.dtype([(\"qint32\", np.int32, 1)])\n",
      "c:\\users\\robert kulesza\\appdata\\local\\programs\\python\\python37\\lib\\site-packages\\tensorboard\\compat\\tensorflow_stub\\dtypes.py:550: FutureWarning: Passing (type, 1) or '1type' as a synonym of type is deprecated; in a future version of numpy, it will be understood as (type, (1,)) / '(1,)type'.\n",
      "  np_resource = np.dtype([(\"resource\", np.ubyte, 1)])\n"
     ]
    }
   ],
   "source": [
    "from __future__ import absolute_import, division, print_function, unicode_literals\n",
    "import tensorflow as tf\n",
    "from tensorflow.keras import datasets, layers, models\n",
    "\n",
    "from sklearn import svm\n",
    "from sklearn.model_selection import learning_curve\n",
    "\n",
    "import numpy as np\n",
    "import random\n",
    "\n",
    "import os\n",
    "from os import listdir\n",
    "from os.path import isfile, join\n",
    "\n",
    "import matplotlib.pyplot as plt\n",
    "import matplotlib.image as mpimg\n",
    "\n",
    "import pandas as pd\n",
    "\n",
    "from sklearn.preprocessing import LabelEncoder"
   ]
  },
  {
   "cell_type": "markdown",
   "metadata": {},
   "source": [
    "### Load Data"
   ]
  },
  {
   "cell_type": "markdown",
   "metadata": {},
   "source": [
    "* paths for training and testing data.\n",
    "* list of csv files in the training / testing directories.\n",
    "* separated data and labels\n",
    "* reshaped data to 28*28"
   ]
  },
  {
   "cell_type": "code",
   "execution_count": 2,
   "metadata": {},
   "outputs": [
    {
     "name": "stdout",
     "output_type": "stream",
     "text": [
      "['A', 'B', 'C', 'D', 'E', 'F', 'G', 'H', 'I', 'J', 'K', 'L', 'M', 'N', 'O', 'P', 'Q', 'R', 'S', 'T', 'U', 'V', 'W', 'X', 'Y', 'Z']\n"
     ]
    }
   ],
   "source": [
    "CLASSES = [chr(x) for x in range(65,91)]\n",
    "print(CLASSES)"
   ]
  },
  {
   "cell_type": "code",
   "execution_count": 3,
   "metadata": {},
   "outputs": [],
   "source": [
    "csv_train = \"../input/sign-mnist/sign_mnist_train.csv\"\n",
    "csv_test =  \"../input/sign-mnist/sign_mnist_test.csv\""
   ]
  },
  {
   "cell_type": "code",
   "execution_count": 4,
   "metadata": {},
   "outputs": [],
   "source": [
    "df_train = pd.read_csv(csv_train)\n",
    "df_test = pd.read_csv(csv_test)\n",
    "\n",
    "array_train_X = np.array(df_train.drop(\"label\",1))\n",
    "array_train_y = np.array(df_train['label'])\n",
    "\n",
    "array_test_X = np.array(df_test.drop(\"label\",1))\n",
    "array_test_y = np.array(df_test['label'])"
   ]
  },
  {
   "cell_type": "code",
   "execution_count": 5,
   "metadata": {},
   "outputs": [],
   "source": [
    "array_train_X = array_train_X.reshape(len(array_train_X),28,28)\n",
    "array_test_X = array_test_X.reshape(len(array_test_X),28,28)"
   ]
  },
  {
   "cell_type": "markdown",
   "metadata": {},
   "source": [
    "### print example image and label"
   ]
  },
  {
   "cell_type": "code",
   "execution_count": 6,
   "metadata": {
    "scrolled": true
   },
   "outputs": [
    {
     "name": "stdout",
     "output_type": "stream",
     "text": [
      "label:  3\n",
      "AxesImage(54,36;334.8x217.44)\n"
     ]
    },
    {
     "data": {
      "image/png": "[encoded data removed]",
      "text/plain": [
       "<Figure size 432x288 with 1 Axes>"
      ]
     },
     "metadata": {
      "needs_background": "light"
     },
     "output_type": "display_data"
    }
   ],
   "source": [
    "img = array_train_X[0]\n",
    "lbl = array_train_y[0]\n",
    "\n",
    "print(\"label: \",lbl)\n",
    "print(plt.imshow(img, cmap='gray'))"
   ]
  },
  {
   "cell_type": "markdown",
   "metadata": {},
   "source": [
    "### Preprocessing"
   ]
  },
  {
   "cell_type": "code",
   "execution_count": 7,
   "metadata": {},
   "outputs": [],
   "source": [
    "test_batch_size = int(1*len(array_test_X))\n",
    "train_batch_size = int(1*len(array_train_X))"
   ]
  },
  {
   "cell_type": "code",
   "execution_count": 8,
   "metadata": {},
   "outputs": [],
   "source": [
    "def preprocess(X,y,batch_size):\n",
    "    indeces = np.array(list(range(0,len(X))))\n",
    "    random.shuffle(indeces)\n",
    "    X, y = np.array([X[indeces[a]] for a in range(0,batch_size)]), np.array([y[indeces[a]] for a in range(0,batch_size)])\n",
    "    X = X.astype(np.float64) / 100\n",
    "    X = np.tanh(X) #why isn't this working? -- test single values\n",
    "    #X = 1/(1 + np.exp(-X)) \n",
    "    X = X.reshape(batch_size,28,28,1)\n",
    "    return X,y"
   ]
  },
  {
   "cell_type": "code",
   "execution_count": 9,
   "metadata": {},
   "outputs": [
    {
     "name": "stdout",
     "output_type": "stream",
     "text": [
      "test:  7172 / 7172\n",
      "train:  27455 / 27455\n",
      "shape:  (27455, 28, 28)\n"
     ]
    }
   ],
   "source": [
    "print(\"test: \",test_batch_size,\"/\",len(array_test_X))\n",
    "print(\"train: \",train_batch_size,\"/\",len(array_train_X))\n",
    "\n",
    "print(\"shape: \",array_train_X.shape)"
   ]
  },
  {
   "cell_type": "code",
   "execution_count": 10,
   "metadata": {},
   "outputs": [],
   "source": [
    "array_train_X, array_train_y = preprocess(array_train_X, array_train_y, train_batch_size)\n",
    "array_test_X, array_test_y = preprocess(array_test_X, array_test_y, test_batch_size)\n"
   ]
  },
  {
   "cell_type": "code",
   "execution_count": 11,
   "metadata": {},
   "outputs": [
    {
     "name": "stdout",
     "output_type": "stream",
     "text": [
      "sample of normalized values: \n",
      "\n",
      " [[0.88095127]\n",
      " [0.88749413]\n",
      " [0.90146799]\n",
      " [0.91378549]\n",
      " [0.92166855]\n",
      " [0.92885762]\n",
      " [0.93414721]\n",
      " [0.93540907]\n",
      " [0.93905593]\n",
      " [0.94250301]\n",
      " [0.94576057]\n",
      " [0.94783185]\n",
      " [0.95079514]\n",
      " [0.95174596]\n",
      " [0.95359412]\n",
      " [0.95359412]\n",
      " [0.95449211]\n",
      " [0.95537312]\n",
      " [0.95623746]\n",
      " [0.95537312]\n",
      " [0.95623746]\n",
      " [0.95623746]\n",
      " [0.95623746]\n",
      " [0.95708542]\n",
      " [0.95791731]\n",
      " [0.95791731]\n",
      " [0.95791731]\n",
      " [0.95791731]]\n"
     ]
    }
   ],
   "source": [
    "print(\"sample of normalized values: \\n\\n\",array_train_X[0][0])"
   ]
  },
  {
   "cell_type": "markdown",
   "metadata": {},
   "source": [
    "### Convolutional Neural Network\n",
    "**create model**"
   ]
  },
  {
   "cell_type": "code",
   "execution_count": 12,
   "metadata": {},
   "outputs": [],
   "source": [
    "checkpoint_path = \"../output/cp.ckpt\"\n",
    "checkpoint_path = \"output/cp.ckpt\""
   ]
  },
  {
   "cell_type": "code",
   "execution_count": 13,
   "metadata": {},
   "outputs": [],
   "source": [
    "def Create_Model():\n",
    "    model = models.Sequential()\n",
    "    model.add(layers.Conv2D(32, (3, 3), activation='relu', input_shape=(28,28,1)))\n",
    "    model.add(layers.MaxPooling2D((2, 2)))\n",
    "    model.add(layers.Conv2D(64, (3, 3), activation='relu'))\n",
    "    model.add(layers.MaxPooling2D((2, 2)))\n",
    "    model.add(layers.Conv2D(64, (3, 3), activation='relu'))\n",
    "    \n",
    "    model.add(layers.Flatten())\n",
    "    \n",
    "    model.add(layers.Dense(400, activation='tanh'))\n",
    "    model.add(layers.Dense(200, activation='tanh'))\n",
    "    model.add(layers.Dense(26, activation='softmax'))\n",
    "    model.summary()\n",
    "    \n",
    "    model.compile(optimizer='adam',\n",
    "              loss='sparse_categorical_crossentropy',\n",
    "              metrics=['accuracy'])\n",
    "    \n",
    "    return model\n",
    "\n",
    "def train_test_model(model, X_train, y_train, X_test, y_test, checkpoint_path):\n",
    "    checkpoint_dir = os.path.dirname(checkpoint_path)\n",
    "\n",
    "    # Create a callback that saves the model's weights\n",
    "    cp_callback = tf.keras.callbacks.ModelCheckpoint(filepath=checkpoint_path,\n",
    "                                                     save_weights_only=True,\n",
    "                                                     verbose=1)\n",
    "\n",
    "    history = model.fit(X_train, y_train, epochs=13,\n",
    "                    validation_data=(X_test, y_test), callbacks=[cp_callback])\n",
    "    \n",
    "    plt.plot(history.history['accuracy'], label='accuracy')\n",
    "    plt.plot(history.history['val_accuracy'], label = 'val_accuracy')\n",
    "    plt.xlabel('Epoch')\n",
    "    plt.ylabel('Accuracy')\n",
    "    plt.ylim([0.5, 1])\n",
    "    plt.legend(loc='lower right')\n",
    "\n",
    "    test_loss, test_acc = model.evaluate(X_test,  y_test, verbose=2)\n",
    "    return history\n"
   ]
  },
  {
   "cell_type": "code",
   "execution_count": 14,
   "metadata": {
    "scrolled": true
   },
   "outputs": [
    {
     "name": "stdout",
     "output_type": "stream",
     "text": [
      "WARNING:tensorflow:From c:\\users\\robert kulesza\\appdata\\local\\programs\\python\\python37\\lib\\site-packages\\tensorflow\\python\\ops\\init_ops.py:1251: calling VarianceScaling.__init__ (from tensorflow.python.ops.init_ops) with dtype is deprecated and will be removed in a future version.\n",
      "Instructions for updating:\n",
      "Call initializer instance with the dtype argument instead of passing it to the constructor\n",
      "Model: \"sequential\"\n",
      "_________________________________________________________________\n",
      "Layer (type)                 Output Shape              Param #   \n",
      "=================================================================\n",
      "conv2d (Conv2D)              (None, 26, 26, 32)        320       \n",
      "_________________________________________________________________\n",
      "max_pooling2d (MaxPooling2D) (None, 13, 13, 32)        0         \n",
      "_________________________________________________________________\n",
      "conv2d_1 (Conv2D)            (None, 11, 11, 64)        18496     \n",
      "_________________________________________________________________\n",
      "max_pooling2d_1 (MaxPooling2 (None, 5, 5, 64)          0         \n",
      "_________________________________________________________________\n",
      "conv2d_2 (Conv2D)            (None, 3, 3, 64)          36928     \n",
      "_________________________________________________________________\n",
      "flatten (Flatten)            (None, 576)               0         \n",
      "_________________________________________________________________\n",
      "dense (Dense)                (None, 400)               230800    \n",
      "_________________________________________________________________\n",
      "dense_1 (Dense)              (None, 200)               80200     \n",
      "_________________________________________________________________\n",
      "dense_2 (Dense)              (None, 26)                5226      \n",
      "=================================================================\n",
      "Total params: 371,970\n",
      "Trainable params: 371,970\n",
      "Non-trainable params: 0\n",
      "_________________________________________________________________\n"
     ]
    }
   ],
   "source": [
    "model = Create_Model()"
   ]
  },
  {
   "cell_type": "code",
   "execution_count": 15,
   "metadata": {
    "scrolled": false
   },
   "outputs": [
    {
     "name": "stdout",
     "output_type": "stream",
     "text": [
      "Train on 27455 samples, validate on 7172 samples\n",
      "Epoch 1/13\n",
      "27424/27455 [============================>.] - ETA: 0s - loss: 0.9555 - acc: 0.7019\n",
      "Epoch 00001: saving model to output/cp.ckpt\n",
      "27455/27455 [==============================] - 14s 497us/sample - loss: 0.9545 - acc: 0.7022 - val_loss: 0.5330 - val_acc: 0.8373\n",
      "Epoch 2/13\n",
      "27360/27455 [============================>.] - ETA: 0s - loss: 0.0728 - acc: 0.9871\n",
      "Epoch 00002: saving model to output/cp.ckpt\n",
      "27455/27455 [==============================] - 13s 492us/sample - loss: 0.0726 - acc: 0.9871 - val_loss: 0.4503 - val_acc: 0.8866\n",
      "Epoch 3/13\n",
      "27424/27455 [============================>.] - ETA: 0s - loss: 0.0147 - acc: 0.9987\n",
      "Epoch 00003: saving model to output/cp.ckpt\n",
      "27455/27455 [==============================] - 13s 487us/sample - loss: 0.0147 - acc: 0.9987 - val_loss: 0.5493 - val_acc: 0.8593\n",
      "Epoch 4/13\n",
      "27424/27455 [============================>.] - ETA: 0s - loss: 0.0262 - acc: 0.9931\n",
      "Epoch 00004: saving model to output/cp.ckpt\n",
      "27455/27455 [==============================] - 13s 489us/sample - loss: 0.0262 - acc: 0.9931 - val_loss: 0.3813 - val_acc: 0.9170\n",
      "Epoch 5/13\n",
      "27424/27455 [============================>.] - ETA: 0s - loss: 0.0013 - acc: 1.0000\n",
      "Epoch 00005: saving model to output/cp.ckpt\n",
      "27455/27455 [==============================] - 13s 490us/sample - loss: 0.0013 - acc: 1.0000 - val_loss: 0.3989 - val_acc: 0.9179\n",
      "Epoch 6/13\n",
      "27424/27455 [============================>.] - ETA: 0s - loss: 6.6312e-04 - acc: 1.0000\n",
      "Epoch 00006: saving model to output/cp.ckpt\n",
      "27455/27455 [==============================] - 13s 485us/sample - loss: 6.6263e-04 - acc: 1.0000 - val_loss: 0.3949 - val_acc: 0.9189\n",
      "Epoch 7/13\n",
      "27392/27455 [============================>.] - ETA: 0s - loss: 4.1440e-04 - acc: 1.0000\n",
      "Epoch 00007: saving model to output/cp.ckpt\n",
      "27455/27455 [==============================] - 13s 486us/sample - loss: 4.1395e-04 - acc: 1.0000 - val_loss: 0.4115 - val_acc: 0.9200\n",
      "Epoch 8/13\n",
      "27424/27455 [============================>.] - ETA: 0s - loss: 2.7534e-04 - acc: 1.0000\n",
      "Epoch 00008: saving model to output/cp.ckpt\n",
      "27455/27455 [==============================] - 13s 488us/sample - loss: 2.7519e-04 - acc: 1.0000 - val_loss: 0.4224 - val_acc: 0.9202\n",
      "Epoch 9/13\n",
      "27392/27455 [============================>.] - ETA: 0s - loss: 0.0644 - acc: 0.9812\n",
      "Epoch 00009: saving model to output/cp.ckpt\n",
      "27455/27455 [==============================] - 14s 493us/sample - loss: 0.0643 - acc: 0.9812 - val_loss: 0.4574 - val_acc: 0.9090\n",
      "Epoch 10/13\n",
      "27424/27455 [============================>.] - ETA: 0s - loss: 0.0021 - acc: 1.0000\n",
      "Epoch 00010: saving model to output/cp.ckpt\n",
      "27455/27455 [==============================] - 13s 486us/sample - loss: 0.0021 - acc: 1.0000 - val_loss: 0.4323 - val_acc: 0.9235\n",
      "Epoch 11/13\n",
      "27424/27455 [============================>.] - ETA: 0s - loss: 7.2922e-04 - acc: 1.0000\n",
      "Epoch 00011: saving model to output/cp.ckpt\n",
      "27455/27455 [==============================] - 13s 484us/sample - loss: 7.2910e-04 - acc: 1.0000 - val_loss: 0.4379 - val_acc: 0.9219\n",
      "Epoch 12/13\n",
      "27328/27455 [============================>.] - ETA: 0s - loss: 4.2850e-04 - acc: 1.0000\n",
      "Epoch 00012: saving model to output/cp.ckpt\n",
      "27455/27455 [==============================] - 14s 494us/sample - loss: 4.2777e-04 - acc: 1.0000 - val_loss: 0.4454 - val_acc: 0.9211\n",
      "Epoch 13/13\n",
      "27424/27455 [============================>.] - ETA: 0s - loss: 2.7425e-04 - acc: 1.0000\n",
      "Epoch 00013: saving model to output/cp.ckpt\n",
      "27455/27455 [==============================] - 13s 491us/sample - loss: 2.7412e-04 - acc: 1.0000 - val_loss: 0.4579 - val_acc: 0.9193\n"
     ]
    },
    {
     "ename": "KeyError",
     "evalue": "'accuracy'",
     "output_type": "error",
     "traceback": [
      "\u001b[1;31m---------------------------------------------------------------------------\u001b[0m",
      "\u001b[1;31mKeyError\u001b[0m                                  Traceback (most recent call last)",
      "\u001b[1;32m<ipython-input-15-2b3239b31efa>\u001b[0m in \u001b[0;36m<module>\u001b[1;34m\u001b[0m\n\u001b[1;32m----> 1\u001b[1;33m \u001b[0mhistory\u001b[0m \u001b[1;33m=\u001b[0m \u001b[0mtrain_test_model\u001b[0m\u001b[1;33m(\u001b[0m\u001b[0mmodel\u001b[0m\u001b[1;33m,\u001b[0m\u001b[0marray_train_X\u001b[0m\u001b[1;33m,\u001b[0m \u001b[0marray_train_y\u001b[0m\u001b[1;33m,\u001b[0m \u001b[0marray_test_X\u001b[0m\u001b[1;33m,\u001b[0m \u001b[0marray_test_y\u001b[0m\u001b[1;33m,\u001b[0m \u001b[0mcheckpoint_path\u001b[0m\u001b[1;33m)\u001b[0m\u001b[1;33m\u001b[0m\u001b[1;33m\u001b[0m\u001b[0m\n\u001b[0m",
      "\u001b[1;32m<ipython-input-13-cc0260ec1e32>\u001b[0m in \u001b[0;36mtrain_test_model\u001b[1;34m(model, X_train, y_train, X_test, y_test, checkpoint_path)\u001b[0m\n\u001b[0;32m     31\u001b[0m                     validation_data=(X_test, y_test), callbacks=[cp_callback])\n\u001b[0;32m     32\u001b[0m \u001b[1;33m\u001b[0m\u001b[0m\n\u001b[1;32m---> 33\u001b[1;33m     \u001b[0mplt\u001b[0m\u001b[1;33m.\u001b[0m\u001b[0mplot\u001b[0m\u001b[1;33m(\u001b[0m\u001b[0mhistory\u001b[0m\u001b[1;33m.\u001b[0m\u001b[0mhistory\u001b[0m\u001b[1;33m[\u001b[0m\u001b[1;34m'accuracy'\u001b[0m\u001b[1;33m]\u001b[0m\u001b[1;33m,\u001b[0m \u001b[0mlabel\u001b[0m\u001b[1;33m=\u001b[0m\u001b[1;34m'accuracy'\u001b[0m\u001b[1;33m)\u001b[0m\u001b[1;33m\u001b[0m\u001b[1;33m\u001b[0m\u001b[0m\n\u001b[0m\u001b[0;32m     34\u001b[0m     \u001b[0mplt\u001b[0m\u001b[1;33m.\u001b[0m\u001b[0mplot\u001b[0m\u001b[1;33m(\u001b[0m\u001b[0mhistory\u001b[0m\u001b[1;33m.\u001b[0m\u001b[0mhistory\u001b[0m\u001b[1;33m[\u001b[0m\u001b[1;34m'val_accuracy'\u001b[0m\u001b[1;33m]\u001b[0m\u001b[1;33m,\u001b[0m \u001b[0mlabel\u001b[0m \u001b[1;33m=\u001b[0m \u001b[1;34m'val_accuracy'\u001b[0m\u001b[1;33m)\u001b[0m\u001b[1;33m\u001b[0m\u001b[1;33m\u001b[0m\u001b[0m\n\u001b[0;32m     35\u001b[0m     \u001b[0mplt\u001b[0m\u001b[1;33m.\u001b[0m\u001b[0mxlabel\u001b[0m\u001b[1;33m(\u001b[0m\u001b[1;34m'Epoch'\u001b[0m\u001b[1;33m)\u001b[0m\u001b[1;33m\u001b[0m\u001b[1;33m\u001b[0m\u001b[0m\n",
      "\u001b[1;31mKeyError\u001b[0m: 'accuracy'"
     ]
    }
   ],
   "source": [
    "history = train_test_model(model,array_train_X, array_train_y, array_test_X, array_test_y, checkpoint_path)"
   ]
  },
  {
   "cell_type": "markdown",
   "metadata": {},
   "source": [
    "### Feeding Singular Inputs"
   ]
  },
  {
   "cell_type": "code",
   "execution_count": 16,
   "metadata": {},
   "outputs": [
    {
     "name": "stdout",
     "output_type": "stream",
     "text": [
      "B\n"
     ]
    }
   ],
   "source": [
    "class_index = model.predict_classes(array_test_X[0].reshape(1,28,28,1))\n",
    "clss = CLASSES[class_index[0]]\n",
    "print(clss)"
   ]
  },
  {
   "cell_type": "markdown",
   "metadata": {},
   "source": [
    "### Load and Save Models\n"
   ]
  },
  {
   "cell_type": "code",
   "execution_count": 20,
   "metadata": {},
   "outputs": [
    {
     "name": "stdout",
     "output_type": "stream",
     "text": [
      " Volume in drive D has no label.\n",
      " Volume Serial Number is F08E-397A\n",
      "\n",
      " Directory of D:\\Projects\\SLNN\\src\\ipynb\\output\n",
      "\n",
      "12/30/2019  11:33 AM    <DIR>          .\n",
      "12/30/2019  11:33 AM    <DIR>          ..\n",
      "12/30/2019  11:33 AM                71 checkpoint\n",
      "12/30/2019  11:33 AM         4,463,664 cp.ckpt.data-00000-of-00002\n",
      "12/30/2019  11:33 AM             5,217 cp.ckpt.data-00001-of-00002\n",
      "12/30/2019  11:33 AM             2,894 cp.ckpt.index\n",
      "               4 File(s)      4,471,846 bytes\n",
      "               2 Dir(s)  1,626,107,498,496 bytes free\n"
     ]
    }
   ],
   "source": [
    "!dir {\"output\"} "
   ]
  },
  {
   "cell_type": "code",
   "execution_count": 21,
   "metadata": {},
   "outputs": [
    {
     "name": "stdout",
     "output_type": "stream",
     "text": [
      "Model: \"sequential_1\"\n",
      "_________________________________________________________________\n",
      "Layer (type)                 Output Shape              Param #   \n",
      "=================================================================\n",
      "conv2d_3 (Conv2D)            (None, 26, 26, 32)        320       \n",
      "_________________________________________________________________\n",
      "max_pooling2d_2 (MaxPooling2 (None, 13, 13, 32)        0         \n",
      "_________________________________________________________________\n",
      "conv2d_4 (Conv2D)            (None, 11, 11, 64)        18496     \n",
      "_________________________________________________________________\n",
      "max_pooling2d_3 (MaxPooling2 (None, 5, 5, 64)          0         \n",
      "_________________________________________________________________\n",
      "conv2d_5 (Conv2D)            (None, 3, 3, 64)          36928     \n",
      "_________________________________________________________________\n",
      "flatten_1 (Flatten)          (None, 576)               0         \n",
      "_________________________________________________________________\n",
      "dense_3 (Dense)              (None, 400)               230800    \n",
      "_________________________________________________________________\n",
      "dense_4 (Dense)              (None, 200)               80200     \n",
      "_________________________________________________________________\n",
      "dense_5 (Dense)              (None, 26)                5226      \n",
      "=================================================================\n",
      "Total params: 371,970\n",
      "Trainable params: 371,970\n",
      "Non-trainable params: 0\n",
      "_________________________________________________________________\n"
     ]
    },
    {
     "data": {
      "text/plain": [
       "<tensorflow.python.training.tracking.util.CheckpointLoadStatus at 0x18e80bac788>"
      ]
     },
     "execution_count": 21,
     "metadata": {},
     "output_type": "execute_result"
    }
   ],
   "source": [
    "ld_model = Create_Model()\n",
    "ld_model.load_weights(checkpoint_path)"
   ]
  },
  {
   "cell_type": "code",
   "execution_count": 22,
   "metadata": {
    "scrolled": false
   },
   "outputs": [
    {
     "name": "stdout",
     "output_type": "stream",
     "text": [
      "B\n"
     ]
    }
   ],
   "source": [
    "class_index = ld_model.predict_classes(array_test_X[0].reshape(1,28,28,1))\n",
    "clss = CLASSES[class_index[0]]\n",
    "print(clss)"
   ]
  }
 ],
 "metadata": {
  "kernelspec": {
   "display_name": "Python 3",
   "language": "python",
   "name": "python3"
  },
  "language_info": {
   "codemirror_mode": {
    "name": "ipython",
    "version": 3
   },
   "file_extension": ".py",
   "mimetype": "text/x-python",
   "name": "python",
   "nbconvert_exporter": "python",
   "pygments_lexer": "ipython3",
   "version": "3.7.4"
  }
 },
 "nbformat": 4,
 "nbformat_minor": 1
}
