{
 "cells": [
  {
   "cell_type": "markdown",
   "metadata": {},
   "source": [
    "<h1> Sign Language Neural Network </h1>\n",
    "<p>by Robert Kulesza</p>"
   ]
  },
  {
   "cell_type": "markdown",
   "metadata": {},
   "source": [
    "## Dataset\n",
    "* Sign Language MNIST dataset\n",
    "* https://www.kaggle.com/datamunge/sign-language-mnist#sign_mnist_test.zip"
   ]
  },
  {
   "cell_type": "markdown",
   "metadata": {},
   "source": [
    "## Methods\n",
    "* <b>Preprocessing</b>\n",
    "    * batch processing\n",
    "* <b>Machine Learning Techniques</b>\n",
    "    * Neural Network\n",
    "* <b>Results</b>\n",
    "    * loss\n",
    "    * accuracy"
   ]
  },
  {
   "cell_type": "markdown",
   "metadata": {},
   "source": [
    "### import libraries"
   ]
  },
  {
   "cell_type": "code",
   "execution_count": 9,
   "metadata": {},
   "outputs": [],
   "source": [
    "from __future__ import absolute_import, division, print_function, unicode_literals\n",
    "import tensorflow as tf\n",
    "from tensorflow.keras import datasets, layers, models\n",
    "\n",
    "from sklearn import svm\n",
    "from sklearn.model_selection import learning_curve\n",
    "\n",
    "import numpy as np\n",
    "import random\n",
    "\n",
    "import os\n",
    "from os import listdir\n",
    "from os.path import isfile, join\n",
    "\n",
    "import matplotlib.pyplot as plt\n",
    "import matplotlib.image as mpimg\n",
    "\n",
    "import pandas as pd\n",
    "\n",
    "from sklearn.preprocessing import LabelEncoder"
   ]
  },
  {
   "cell_type": "markdown",
   "metadata": {},
   "source": [
    "### Load Data"
   ]
  },
  {
   "cell_type": "markdown",
   "metadata": {},
   "source": [
    "* paths for training and testing data.\n",
    "* list of csv files in the training / testing directories.\n",
    "* separated data and labels\n",
    "* reshaped data to 28*28"
   ]
  },
  {
   "cell_type": "code",
   "execution_count": 10,
   "metadata": {},
   "outputs": [],
   "source": [
    "path_train = \"sign_mnist_train\"\n",
    "path_test = \"sign_mnist_test\""
   ]
  },
  {
   "cell_type": "code",
   "execution_count": 11,
   "metadata": {},
   "outputs": [],
   "source": [
    "csv_train = os.listdir(path_train)\n",
    "csv_test = os.listdir(path_test)\n",
    "\n",
    "csv_train = [path_train + \"/\" + csv_train[x] for x in range(len(csv_train))]\n",
    "csv_test = [path_test + \"/\" + csv_test[x] for x in range(len(csv_train))]"
   ]
  },
  {
   "cell_type": "code",
   "execution_count": 12,
   "metadata": {},
   "outputs": [],
   "source": [
    "df_train = pd.read_csv(csv_train[0])\n",
    "df_test = pd.read_csv(csv_test[0])\n",
    "\n",
    "array_train_X = np.array(df_train.drop(\"label\",1))\n",
    "array_train_y = np.array(df_train['label'])\n",
    "\n",
    "array_test_X = np.array(df_test.drop(\"label\",1))\n",
    "array_test_y = np.array(df_test['label'])"
   ]
  },
  {
   "cell_type": "code",
   "execution_count": 13,
   "metadata": {},
   "outputs": [],
   "source": [
    "array_train_X = array_train_X.reshape(len(array_train_X),28,28)\n",
    "array_test_X = array_test_X.reshape(len(array_test_X),28,28)"
   ]
  },
  {
   "cell_type": "markdown",
   "metadata": {},
   "source": [
    "### print example image and label"
   ]
  },
  {
   "cell_type": "code",
   "execution_count": 14,
   "metadata": {
    "scrolled": true
   },
   "outputs": [
    {
     "name": "stdout",
     "output_type": "stream",
     "text": [
      "label:  3\n",
      "AxesImage(54,36;334.8x217.44)\n"
     ]
    },
    {
     "data": {
      "image/png": "[encoded data removed]",
      "text/plain": [
       "<Figure size 432x288 with 1 Axes>"
      ]
     },
     "metadata": {
      "needs_background": "light"
     },
     "output_type": "display_data"
    }
   ],
   "source": [
    "img = array_train_X[0]\n",
    "lbl = array_train_y[0]\n",
    "\n",
    "print(\"label: \",lbl)\n",
    "print(plt.imshow(img, cmap='gray'))"
   ]
  },
  {
   "cell_type": "markdown",
   "metadata": {},
   "source": [
    "### Preprocessing"
   ]
  },
  {
   "cell_type": "code",
   "execution_count": 35,
   "metadata": {},
   "outputs": [],
   "source": [
    "test_batch_size = int(0.25*len(array_test_X))\n",
    "train_batch_size = int(0.25*len(array_train_X))"
   ]
  },
  {
   "cell_type": "code",
   "execution_count": 36,
   "metadata": {},
   "outputs": [],
   "source": [
    "def preprocess(X,y,batch_size):\n",
    "    indeces = np.array(list(range(0,len(X))))\n",
    "    random.shuffle(indeces)\n",
    "    X, y = np.array([X[indeces[a]] for a in range(0,batch_size)]), np.array([y[indeces[a]] for a in range(0,batch_size)])\n",
    "    X = X.astype(np.float64) / 100\n",
    "    X = np.tanh(X) #why isn't this working? -- test single values\n",
    "    #X = 1/(1 + np.exp(-X)) \n",
    "    X = X.reshape(batch_size,28,28,1)\n",
    "    return X,y"
   ]
  },
  {
   "cell_type": "code",
   "execution_count": 37,
   "metadata": {},
   "outputs": [
    {
     "name": "stdout",
     "output_type": "stream",
     "text": [
      "test:  1793 / 7172\n",
      "train:  6863 / 27455\n",
      "shape:  (27455, 28, 28, 1)\n"
     ]
    }
   ],
   "source": [
    "print(\"test: \",test_batch_size,\"/\",len(array_test_X))\n",
    "print(\"train: \",train_batch_size,\"/\",len(array_train_X))\n",
    "\n",
    "print(\"shape: \",array_train_X.shape)"
   ]
  },
  {
   "cell_type": "code",
   "execution_count": 38,
   "metadata": {},
   "outputs": [],
   "source": [
    "array_train_X, array_train_y = preprocess(array_train_X, array_train_y, train_batch_size)\n",
    "array_test_X, array_test_y = preprocess(array_test_X, array_test_y, test_batch_size)\n"
   ]
  },
  {
   "cell_type": "code",
   "execution_count": 39,
   "metadata": {},
   "outputs": [
    {
     "name": "stdout",
     "output_type": "stream",
     "text": [
      "sample of normalized values: \n",
      "\n",
      " [[0.00680466]\n",
      " [0.00701363]\n",
      " [0.00522661]\n",
      " [0.00652697]\n",
      " [0.00730581]\n",
      " [0.00336374]\n",
      " [0.00282134]\n",
      " [0.00571664]\n",
      " [0.00591512]\n",
      " [0.00623057]\n",
      " [0.00652697]\n",
      " [0.00685798]\n",
      " [0.00753052]\n",
      " [0.00789445]\n",
      " [0.00807551]\n",
      " [0.00827433]\n",
      " [0.0083056 ]\n",
      " [0.00845435]\n",
      " [0.00851044]\n",
      " [0.00853777]\n",
      " [0.00861702]\n",
      " [0.00866762]\n",
      " [0.00874031]\n",
      " [0.0087867 ]\n",
      " [0.00880928]\n",
      " [0.00883148]\n",
      " [0.00889575]\n",
      " [0.00891643]]\n"
     ]
    }
   ],
   "source": [
    "print(\"sample of normalized values: \\n\\n\",array_train_X[0][0])"
   ]
  },
  {
   "cell_type": "markdown",
   "metadata": {},
   "source": [
    "### Convolutional Neural Network\n",
    "**create model**"
   ]
  },
  {
   "cell_type": "code",
   "execution_count": 40,
   "metadata": {},
   "outputs": [],
   "source": [
    "def Create_Model():\n",
    "    model = models.Sequential()\n",
    "    model.add(layers.Conv2D(32, (3, 3), activation='relu', input_shape=(28,28,1)))\n",
    "    model.add(layers.MaxPooling2D((2, 2)))\n",
    "    model.add(layers.Conv2D(64, (3, 3), activation='relu'))\n",
    "    model.add(layers.MaxPooling2D((2, 2)))\n",
    "    model.add(layers.Conv2D(64, (3, 3), activation='relu'))\n",
    "    \n",
    "    model.add(layers.Flatten())\n",
    "    model.add(layers.Dense(64, activation='relu'))\n",
    "    model.add(layers.Dense(26, activation='softmax'))\n",
    "    model.summary()\n",
    "    \n",
    "    model.compile(optimizer='adam',\n",
    "              loss='sparse_categorical_crossentropy',\n",
    "              metrics=['accuracy'])\n",
    "    \n",
    "    return model\n",
    "\n",
    "def train_test_model(model, X_train, y_train, X_test, y_test):\n",
    "    history = model.fit(X_train, y_train, epochs=10,\n",
    "                    validation_data=(X_test, y_test))\n",
    "    \n",
    "    plt.plot(history.history['accuracy'], label='accuracy')\n",
    "    plt.plot(history.history['val_accuracy'], label = 'val_accuracy')\n",
    "    plt.xlabel('Epoch')\n",
    "    plt.ylabel('Accuracy')\n",
    "    plt.ylim([0.5, 1])\n",
    "    plt.legend(loc='lower right')\n",
    "\n",
    "    test_loss, test_acc = model.evaluate(X_test,  y_test, verbose=2)\n",
    "    return history\n"
   ]
  },
  {
   "cell_type": "code",
   "execution_count": 41,
   "metadata": {
    "scrolled": true
   },
   "outputs": [
    {
     "name": "stdout",
     "output_type": "stream",
     "text": [
      "Model: \"sequential_2\"\n",
      "_________________________________________________________________\n",
      "Layer (type)                 Output Shape              Param #   \n",
      "=================================================================\n",
      "conv2d_6 (Conv2D)            (None, 26, 26, 32)        320       \n",
      "_________________________________________________________________\n",
      "max_pooling2d_4 (MaxPooling2 (None, 13, 13, 32)        0         \n",
      "_________________________________________________________________\n",
      "conv2d_7 (Conv2D)            (None, 11, 11, 64)        18496     \n",
      "_________________________________________________________________\n",
      "max_pooling2d_5 (MaxPooling2 (None, 5, 5, 64)          0         \n",
      "_________________________________________________________________\n",
      "conv2d_8 (Conv2D)            (None, 3, 3, 64)          36928     \n",
      "_________________________________________________________________\n",
      "flatten_2 (Flatten)          (None, 576)               0         \n",
      "_________________________________________________________________\n",
      "dense_4 (Dense)              (None, 64)                36928     \n",
      "_________________________________________________________________\n",
      "dense_5 (Dense)              (None, 26)                1690      \n",
      "=================================================================\n",
      "Total params: 94,362\n",
      "Trainable params: 94,362\n",
      "Non-trainable params: 0\n",
      "_________________________________________________________________\n"
     ]
    }
   ],
   "source": [
    "model = Create_Model()"
   ]
  },
  {
   "cell_type": "code",
   "execution_count": 42,
   "metadata": {
    "scrolled": false
   },
   "outputs": [
    {
     "name": "stdout",
     "output_type": "stream",
     "text": [
      "Train on 6863 samples, validate on 1793 samples\n",
      "Epoch 1/10\n",
      "6863/6863 [==============================] - 3s 463us/sample - loss: 3.2073 - acc: 0.0393 - val_loss: 3.2235 - val_acc: 0.0340\n",
      "Epoch 2/10\n",
      "6863/6863 [==============================] - 3s 440us/sample - loss: 3.1854 - acc: 0.0393 - val_loss: 3.1957 - val_acc: 0.0245\n",
      "Epoch 3/10\n",
      "6863/6863 [==============================] - 3s 441us/sample - loss: 3.1825 - acc: 0.0415 - val_loss: 3.2051 - val_acc: 0.0318\n",
      "Epoch 4/10\n",
      "6863/6863 [==============================] - 3s 441us/sample - loss: 3.1806 - acc: 0.0393 - val_loss: 3.1940 - val_acc: 0.0491\n",
      "Epoch 5/10\n",
      "6863/6863 [==============================] - 3s 442us/sample - loss: 3.1797 - acc: 0.0452 - val_loss: 3.1970 - val_acc: 0.0390\n",
      "Epoch 6/10\n",
      "6863/6863 [==============================] - 3s 441us/sample - loss: 3.1778 - acc: 0.0469 - val_loss: 3.2099 - val_acc: 0.0245\n",
      "Epoch 7/10\n",
      "6863/6863 [==============================] - 3s 453us/sample - loss: 2.8140 - acc: 0.1521 - val_loss: 2.4910 - val_acc: 0.2393\n",
      "Epoch 8/10\n",
      "6863/6863 [==============================] - 3s 442us/sample - loss: 2.0771 - acc: 0.3426 - val_loss: 2.0413 - val_acc: 0.4016\n",
      "Epoch 9/10\n",
      "6863/6863 [==============================] - 3s 441us/sample - loss: 1.7128 - acc: 0.4610 - val_loss: 1.8719 - val_acc: 0.4590\n",
      "Epoch 10/10\n",
      "6863/6863 [==============================] - 3s 445us/sample - loss: 1.4866 - acc: 0.5222 - val_loss: 1.6601 - val_acc: 0.4902\n"
     ]
    },
    {
     "ename": "KeyError",
     "evalue": "'accuracy'",
     "output_type": "error",
     "traceback": [
      "\u001b[1;31m---------------------------------------------------------------------------\u001b[0m",
      "\u001b[1;31mKeyError\u001b[0m                                  Traceback (most recent call last)",
      "\u001b[1;32m<ipython-input-42-1ef54d741de2>\u001b[0m in \u001b[0;36m<module>\u001b[1;34m\u001b[0m\n\u001b[1;32m----> 1\u001b[1;33m \u001b[0mhistory\u001b[0m \u001b[1;33m=\u001b[0m \u001b[0mtrain_test_model\u001b[0m\u001b[1;33m(\u001b[0m\u001b[0mmodel\u001b[0m\u001b[1;33m,\u001b[0m\u001b[0marray_train_X\u001b[0m\u001b[1;33m,\u001b[0m \u001b[0marray_train_y\u001b[0m\u001b[1;33m,\u001b[0m \u001b[0marray_test_X\u001b[0m\u001b[1;33m,\u001b[0m \u001b[0marray_test_y\u001b[0m\u001b[1;33m)\u001b[0m\u001b[1;33m\u001b[0m\u001b[1;33m\u001b[0m\u001b[0m\n\u001b[0m",
      "\u001b[1;32m<ipython-input-40-61cd192962b9>\u001b[0m in \u001b[0;36mtrain_test_model\u001b[1;34m(model, X_train, y_train, X_test, y_test)\u001b[0m\n\u001b[0;32m     22\u001b[0m                     validation_data=(X_test, y_test))\n\u001b[0;32m     23\u001b[0m \u001b[1;33m\u001b[0m\u001b[0m\n\u001b[1;32m---> 24\u001b[1;33m     \u001b[0mplt\u001b[0m\u001b[1;33m.\u001b[0m\u001b[0mplot\u001b[0m\u001b[1;33m(\u001b[0m\u001b[0mhistory\u001b[0m\u001b[1;33m.\u001b[0m\u001b[0mhistory\u001b[0m\u001b[1;33m[\u001b[0m\u001b[1;34m'accuracy'\u001b[0m\u001b[1;33m]\u001b[0m\u001b[1;33m,\u001b[0m \u001b[0mlabel\u001b[0m\u001b[1;33m=\u001b[0m\u001b[1;34m'accuracy'\u001b[0m\u001b[1;33m)\u001b[0m\u001b[1;33m\u001b[0m\u001b[1;33m\u001b[0m\u001b[0m\n\u001b[0m\u001b[0;32m     25\u001b[0m     \u001b[0mplt\u001b[0m\u001b[1;33m.\u001b[0m\u001b[0mplot\u001b[0m\u001b[1;33m(\u001b[0m\u001b[0mhistory\u001b[0m\u001b[1;33m.\u001b[0m\u001b[0mhistory\u001b[0m\u001b[1;33m[\u001b[0m\u001b[1;34m'val_accuracy'\u001b[0m\u001b[1;33m]\u001b[0m\u001b[1;33m,\u001b[0m \u001b[0mlabel\u001b[0m \u001b[1;33m=\u001b[0m \u001b[1;34m'val_accuracy'\u001b[0m\u001b[1;33m)\u001b[0m\u001b[1;33m\u001b[0m\u001b[1;33m\u001b[0m\u001b[0m\n\u001b[0;32m     26\u001b[0m     \u001b[0mplt\u001b[0m\u001b[1;33m.\u001b[0m\u001b[0mxlabel\u001b[0m\u001b[1;33m(\u001b[0m\u001b[1;34m'Epoch'\u001b[0m\u001b[1;33m)\u001b[0m\u001b[1;33m\u001b[0m\u001b[1;33m\u001b[0m\u001b[0m\n",
      "\u001b[1;31mKeyError\u001b[0m: 'accuracy'"
     ]
    }
   ],
   "source": [
    "history = train_test_model(model,array_train_X, array_train_y, array_test_X, array_test_y)"
   ]
  },
  {
   "cell_type": "code",
   "execution_count": null,
   "metadata": {},
   "outputs": [],
   "source": []
  }
 ],
 "metadata": {
  "kernelspec": {
   "display_name": "Python 3",
   "language": "python",
   "name": "python3"
  },
  "language_info": {
   "codemirror_mode": {
    "name": "ipython",
    "version": 3
   },
   "file_extension": ".py",
   "mimetype": "text/x-python",
   "name": "python",
   "nbconvert_exporter": "python",
   "pygments_lexer": "ipython3",
   "version": "3.7.4"
  }
 },
 "nbformat": 4,
 "nbformat_minor": 2
}
